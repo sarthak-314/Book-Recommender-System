{
  "nbformat": 4,
  "nbformat_minor": 0,
  "metadata": {
    "colab": {
      "name": "TF-IDF Lite.ipynb",
      "provenance": [],
      "toc_visible": true,
      "mount_file_id": "1DzedSJmGjSPQUfzHqhGLYGXP825gLOEi",
      "authorship_tag": "ABX9TyNa9yxlr3EUpgEORB1dqWF5",
      "include_colab_link": true
    },
    "kernelspec": {
      "name": "python3",
      "display_name": "Python 3"
    }
  },
  "cells": [
    {
      "cell_type": "markdown",
      "metadata": {
        "id": "view-in-github",
        "colab_type": "text"
      },
      "source": [
        "<a href=\"https://colab.research.google.com/github/sarthak-314/Book-Recommender-System/blob/master/Base%20Models/TF-IDF%20Lite.ipynb\" target=\"_parent\"><img src=\"https://colab.research.google.com/assets/colab-badge.svg\" alt=\"Open In Colab\"/></a>"
      ]
    },
    {
      "cell_type": "markdown",
      "metadata": {
        "id": "slRWBmObcYXy",
        "colab_type": "text"
      },
      "source": [
        "# **TF-IDF Lite**\n",
        "***"
      ]
    },
    {
      "cell_type": "code",
      "metadata": {
        "id": "ALItosX-a-RR",
        "colab_type": "code",
        "colab": {
          "base_uri": "https://localhost:8080/",
          "height": 34
        },
        "outputId": "74171a04-fd24-43cb-e642-9a434f6f9fea"
      },
      "source": [
        "import pandas as pd\n",
        "import os\n",
        "%cd /content/drive/My\\ Drive"
      ],
      "execution_count": null,
      "outputs": [
        {
          "output_type": "stream",
          "text": [
            "/content/drive/My Drive\n"
          ],
          "name": "stdout"
        }
      ]
    },
    {
      "cell_type": "code",
      "metadata": {
        "id": "ryVpbAxEcu61",
        "colab_type": "code",
        "colab": {}
      },
      "source": [
        "DF_PATH = './Colab Notebooks/CADABRA/Recommender System/goodreads-10k'\n",
        "ratings = pd.read_csv(os.path.join(DF_PATH, 'ratings.csv'))\n",
        "book_tags = pd.read_csv(os.path.join(DF_PATH, 'book_tags.csv'))\n",
        "tags = pd.read_csv(os.path.join(DF_PATH, 'tags.csv'))\n",
        "books = pd.read_csv(os.path.join(DF_PATH, 'books.csv'))\n",
        "book_tags = book_tags.merge(tags)"
      ],
      "execution_count": null,
      "outputs": []
    },
    {
      "cell_type": "code",
      "metadata": {
        "id": "6uUWRPE-cyOP",
        "colab_type": "code",
        "colab": {
          "base_uri": "https://localhost:8080/",
          "height": 204
        },
        "outputId": "48eb825c-bcd0-442b-b4a1-a61f224bb06e"
      },
      "source": [
        "import numpy as np\n",
        "TOTAL_TAGS_COUNT = book_tags.groupby('tag_id')['count'].sum().sum()\n",
        "grouped=book_tags.groupby('tag_id')['count'].sum()\n",
        "def get_idf(id):\n",
        "    count = grouped[id]\n",
        "    return np.log(TOTAL_TAGS_COUNT/(count+25))\n",
        "#TODO: Add hash table to make it fast\n",
        "book_tags['idf'] = book_tags.tag_id.apply(get_idf)\n",
        "book_tags.head()"
      ],
      "execution_count": null,
      "outputs": [
        {
          "output_type": "execute_result",
          "data": {
            "text/html": [
              "<div>\n",
              "<style scoped>\n",
              "    .dataframe tbody tr th:only-of-type {\n",
              "        vertical-align: middle;\n",
              "    }\n",
              "\n",
              "    .dataframe tbody tr th {\n",
              "        vertical-align: top;\n",
              "    }\n",
              "\n",
              "    .dataframe thead th {\n",
              "        text-align: right;\n",
              "    }\n",
              "</style>\n",
              "<table border=\"1\" class=\"dataframe\">\n",
              "  <thead>\n",
              "    <tr style=\"text-align: right;\">\n",
              "      <th></th>\n",
              "      <th>goodreads_book_id</th>\n",
              "      <th>tag_id</th>\n",
              "      <th>count</th>\n",
              "      <th>tag_name</th>\n",
              "      <th>idf</th>\n",
              "    </tr>\n",
              "  </thead>\n",
              "  <tbody>\n",
              "    <tr>\n",
              "      <th>0</th>\n",
              "      <td>1</td>\n",
              "      <td>30574</td>\n",
              "      <td>167697</td>\n",
              "      <td>to-read</td>\n",
              "      <td>0.394859</td>\n",
              "    </tr>\n",
              "    <tr>\n",
              "      <th>1</th>\n",
              "      <td>2</td>\n",
              "      <td>30574</td>\n",
              "      <td>24549</td>\n",
              "      <td>to-read</td>\n",
              "      <td>0.394859</td>\n",
              "    </tr>\n",
              "    <tr>\n",
              "      <th>2</th>\n",
              "      <td>3</td>\n",
              "      <td>30574</td>\n",
              "      <td>496107</td>\n",
              "      <td>to-read</td>\n",
              "      <td>0.394859</td>\n",
              "    </tr>\n",
              "    <tr>\n",
              "      <th>3</th>\n",
              "      <td>5</td>\n",
              "      <td>30574</td>\n",
              "      <td>11909</td>\n",
              "      <td>to-read</td>\n",
              "      <td>0.394859</td>\n",
              "    </tr>\n",
              "    <tr>\n",
              "      <th>4</th>\n",
              "      <td>6</td>\n",
              "      <td>30574</td>\n",
              "      <td>298</td>\n",
              "      <td>to-read</td>\n",
              "      <td>0.394859</td>\n",
              "    </tr>\n",
              "  </tbody>\n",
              "</table>\n",
              "</div>"
            ],
            "text/plain": [
              "   goodreads_book_id  tag_id   count tag_name       idf\n",
              "0                  1   30574  167697  to-read  0.394859\n",
              "1                  2   30574   24549  to-read  0.394859\n",
              "2                  3   30574  496107  to-read  0.394859\n",
              "3                  5   30574   11909  to-read  0.394859\n",
              "4                  6   30574     298  to-read  0.394859"
            ]
          },
          "metadata": {
            "tags": []
          },
          "execution_count": 5
        }
      ]
    },
    {
      "cell_type": "code",
      "metadata": {
        "id": "uBjas0d6c3LM",
        "colab_type": "code",
        "colab": {}
      },
      "source": [
        "#Helper functions\n",
        "def get_tags_for_book(book_id):\n",
        "    goodreads_book_id = int(books[books.book_id==book_id].goodreads_book_id)\n",
        "    tags_for_book = book_tags[book_tags.goodreads_book_id==goodreads_book_id][['tag_id', 'count', 'idf']]\n",
        "    return tags_for_book\n",
        "\n",
        "def compare_books(tags_A, tags_B):\n",
        "    merged = tags_A.merge(tags_B, on='tag_id')\n",
        "    if merged.empty: \n",
        "        return 0\n",
        "    try:\n",
        "        common_tf = ((merged['count_x'] + merged['count_y']) * merged['idf_x']).sum()\n",
        "        total_tf = (tags_A['count'] * tags_A['idf']).sum() + (tags_B['count']*tags_B['idf']).sum()\n",
        "        similarity_index = common_tf / total_tf\n",
        "        return similarity_index\n",
        "    except: \n",
        "        return 0\n",
        "\n",
        "def get_scores_with(book_id):\n",
        "    tags_for_book = get_tags_for_book(book_id)\n",
        "    def get_similarity_score(x):\n",
        "        book_tags_x = get_tags_for_book(x.book_id)\n",
        "        return compare_books(tags_for_book, book_tags_x)\n",
        "    return books.apply(get_similarity_score, axis=1)\n"
      ],
      "execution_count": null,
      "outputs": []
    },
    {
      "cell_type": "code",
      "metadata": {
        "id": "dS0XRCyjef_5",
        "colab_type": "code",
        "colab": {
          "base_uri": "https://localhost:8080/",
          "height": 479
        },
        "outputId": "2743eabd-b3d6-41b7-dcf0-8436d23d312c"
      },
      "source": [
        "books.sample(5)"
      ],
      "execution_count": null,
      "outputs": [
        {
          "output_type": "execute_result",
          "data": {
            "text/html": [
              "<div>\n",
              "<style scoped>\n",
              "    .dataframe tbody tr th:only-of-type {\n",
              "        vertical-align: middle;\n",
              "    }\n",
              "\n",
              "    .dataframe tbody tr th {\n",
              "        vertical-align: top;\n",
              "    }\n",
              "\n",
              "    .dataframe thead th {\n",
              "        text-align: right;\n",
              "    }\n",
              "</style>\n",
              "<table border=\"1\" class=\"dataframe\">\n",
              "  <thead>\n",
              "    <tr style=\"text-align: right;\">\n",
              "      <th></th>\n",
              "      <th>book_id</th>\n",
              "      <th>goodreads_book_id</th>\n",
              "      <th>best_book_id</th>\n",
              "      <th>work_id</th>\n",
              "      <th>books_count</th>\n",
              "      <th>isbn</th>\n",
              "      <th>isbn13</th>\n",
              "      <th>authors</th>\n",
              "      <th>original_publication_year</th>\n",
              "      <th>original_title</th>\n",
              "      <th>title</th>\n",
              "      <th>language_code</th>\n",
              "      <th>average_rating</th>\n",
              "      <th>ratings_count</th>\n",
              "      <th>work_ratings_count</th>\n",
              "      <th>work_text_reviews_count</th>\n",
              "      <th>ratings_1</th>\n",
              "      <th>ratings_2</th>\n",
              "      <th>ratings_3</th>\n",
              "      <th>ratings_4</th>\n",
              "      <th>ratings_5</th>\n",
              "      <th>image_url</th>\n",
              "      <th>small_image_url</th>\n",
              "    </tr>\n",
              "  </thead>\n",
              "  <tbody>\n",
              "    <tr>\n",
              "      <th>2864</th>\n",
              "      <td>2865</td>\n",
              "      <td>47558</td>\n",
              "      <td>47558</td>\n",
              "      <td>3211551</td>\n",
              "      <td>8</td>\n",
              "      <td>747541604</td>\n",
              "      <td>9.780748e+12</td>\n",
              "      <td>Edward Gorey</td>\n",
              "      <td>1963.0</td>\n",
              "      <td>The Gashlycrumb Tinies</td>\n",
              "      <td>The Gashlycrumb Tinies (The Vinegar Works, #1)</td>\n",
              "      <td>eng</td>\n",
              "      <td>4.23</td>\n",
              "      <td>37054</td>\n",
              "      <td>38430</td>\n",
              "      <td>682</td>\n",
              "      <td>1192</td>\n",
              "      <td>1741</td>\n",
              "      <td>5141</td>\n",
              "      <td>9414</td>\n",
              "      <td>20942</td>\n",
              "      <td>https://images.gr-assets.com/books/1327933644m...</td>\n",
              "      <td>https://images.gr-assets.com/books/1327933644s...</td>\n",
              "    </tr>\n",
              "    <tr>\n",
              "      <th>1024</th>\n",
              "      <td>1025</td>\n",
              "      <td>7214</td>\n",
              "      <td>7214</td>\n",
              "      <td>10352</td>\n",
              "      <td>38</td>\n",
              "      <td>785263705</td>\n",
              "      <td>9.780785e+12</td>\n",
              "      <td>Donald Miller</td>\n",
              "      <td>2003.0</td>\n",
              "      <td>Blue Like Jazz: Nonreligious Thoughts on Chris...</td>\n",
              "      <td>Blue Like Jazz: Nonreligious Thoughts on Chris...</td>\n",
              "      <td>en-US</td>\n",
              "      <td>3.92</td>\n",
              "      <td>82090</td>\n",
              "      <td>83060</td>\n",
              "      <td>3546</td>\n",
              "      <td>2857</td>\n",
              "      <td>5382</td>\n",
              "      <td>16699</td>\n",
              "      <td>28410</td>\n",
              "      <td>29712</td>\n",
              "      <td>https://s.gr-assets.com/assets/nophoto/book/11...</td>\n",
              "      <td>https://s.gr-assets.com/assets/nophoto/book/50...</td>\n",
              "    </tr>\n",
              "    <tr>\n",
              "      <th>6224</th>\n",
              "      <td>6225</td>\n",
              "      <td>584637</td>\n",
              "      <td>584637</td>\n",
              "      <td>1086777</td>\n",
              "      <td>251</td>\n",
              "      <td>087220605X</td>\n",
              "      <td>9.780872e+12</td>\n",
              "      <td>John Stuart Mill, George Sher</td>\n",
              "      <td>1861.0</td>\n",
              "      <td>Utilitarianism</td>\n",
              "      <td>Utilitarianism</td>\n",
              "      <td>eng</td>\n",
              "      <td>3.65</td>\n",
              "      <td>14699</td>\n",
              "      <td>15684</td>\n",
              "      <td>229</td>\n",
              "      <td>422</td>\n",
              "      <td>1440</td>\n",
              "      <td>4963</td>\n",
              "      <td>5307</td>\n",
              "      <td>3552</td>\n",
              "      <td>https://images.gr-assets.com/books/1405624617m...</td>\n",
              "      <td>https://images.gr-assets.com/books/1405624617s...</td>\n",
              "    </tr>\n",
              "    <tr>\n",
              "      <th>9971</th>\n",
              "      <td>9972</td>\n",
              "      <td>4984</td>\n",
              "      <td>4984</td>\n",
              "      <td>6558445</td>\n",
              "      <td>28</td>\n",
              "      <td>99282968</td>\n",
              "      <td>9.780099e+12</td>\n",
              "      <td>Kurt Vonnegut Jr.</td>\n",
              "      <td>1999.0</td>\n",
              "      <td>Bagombo Snuff Box</td>\n",
              "      <td>Bagombo Snuff Box</td>\n",
              "      <td>en-GB</td>\n",
              "      <td>3.72</td>\n",
              "      <td>7407</td>\n",
              "      <td>8597</td>\n",
              "      <td>316</td>\n",
              "      <td>78</td>\n",
              "      <td>548</td>\n",
              "      <td>2817</td>\n",
              "      <td>3430</td>\n",
              "      <td>1724</td>\n",
              "      <td>https://images.gr-assets.com/books/1327353727m...</td>\n",
              "      <td>https://images.gr-assets.com/books/1327353727s...</td>\n",
              "    </tr>\n",
              "    <tr>\n",
              "      <th>7473</th>\n",
              "      <td>7474</td>\n",
              "      <td>16071767</td>\n",
              "      <td>16071767</td>\n",
              "      <td>23590922</td>\n",
              "      <td>46</td>\n",
              "      <td>345539478</td>\n",
              "      <td>9.780346e+12</td>\n",
              "      <td>Karin Slaughter</td>\n",
              "      <td>2013.0</td>\n",
              "      <td>Unseen</td>\n",
              "      <td>Unseen (Will Trent, #7)</td>\n",
              "      <td>eng</td>\n",
              "      <td>4.17</td>\n",
              "      <td>12277</td>\n",
              "      <td>16051</td>\n",
              "      <td>1226</td>\n",
              "      <td>113</td>\n",
              "      <td>392</td>\n",
              "      <td>2532</td>\n",
              "      <td>6612</td>\n",
              "      <td>6402</td>\n",
              "      <td>https://images.gr-assets.com/books/1361517437m...</td>\n",
              "      <td>https://images.gr-assets.com/books/1361517437s...</td>\n",
              "    </tr>\n",
              "  </tbody>\n",
              "</table>\n",
              "</div>"
            ],
            "text/plain": [
              "      book_id  ...                                    small_image_url\n",
              "2864     2865  ...  https://images.gr-assets.com/books/1327933644s...\n",
              "1024     1025  ...  https://s.gr-assets.com/assets/nophoto/book/50...\n",
              "6224     6225  ...  https://images.gr-assets.com/books/1405624617s...\n",
              "9971     9972  ...  https://images.gr-assets.com/books/1327353727s...\n",
              "7473     7474  ...  https://images.gr-assets.com/books/1361517437s...\n",
              "\n",
              "[5 rows x 23 columns]"
            ]
          },
          "metadata": {
            "tags": []
          },
          "execution_count": 9
        }
      ]
    },
    {
      "cell_type": "code",
      "metadata": {
        "id": "6yK1tyjVc9to",
        "colab_type": "code",
        "colab": {}
      },
      "source": [
        "def user_book_compatibility_score(user_id, book_id):\n",
        "    books_rated = ratings[ratings.user_id==user_id]\n",
        "    favorite_books = books_rated[books_rated.rating==5].book_id.values\n",
        "    liked_books = books_rated[books_rated.rating==4].book_id.values\n",
        "    hated_books = books_rated[books_rated.rating==1].book_id.values\n",
        "    tags_for_book = get_tags_for_book(book_id)\n",
        "    def similarity_with(books):\n",
        "        if len(books) > 10:\n",
        "            books = np.random.choice(books, 10)\n",
        "        total_score = np.sum([compare_books(get_tags_for_book(x), tags_for_book) for x in books])/len(books)\n",
        "        return total_score\n",
        "    \n",
        "    similarity_score = {\n",
        "        'loved_books': similarity_with(favorite_books), \n",
        "        'liked_books': similarity_with(liked_books), \n",
        "        'did_not_like': similarity_with(hated_books)\n",
        "    }\n",
        "\n",
        "    return similarity_score"
      ],
      "execution_count": null,
      "outputs": []
    },
    {
      "cell_type": "code",
      "metadata": {
        "id": "PC0sZmahgEsd",
        "colab_type": "code",
        "colab": {
          "base_uri": "https://localhost:8080/",
          "height": 68
        },
        "outputId": "77872644-f065-458c-de3b-f3b1427f59bb"
      },
      "source": [
        "user_book_compatibility_score(user_id=1, book_id=1)"
      ],
      "execution_count": null,
      "outputs": [
        {
          "output_type": "execute_result",
          "data": {
            "text/plain": [
              "{'did_not_like': 0.44755650315749546,\n",
              " 'liked_books': 0.4944962194361791,\n",
              " 'loved_books': 0.4841793114601785}"
            ]
          },
          "metadata": {
            "tags": []
          },
          "execution_count": 32
        }
      ]
    },
    {
      "cell_type": "markdown",
      "metadata": {
        "id": "d75o3Hvsg-cA",
        "colab_type": "text"
      },
      "source": [
        "This book is closer to loved_books for the user than the did_not_like books.\n",
        "\n",
        "This means the user will probably like this book"
      ]
    }
  ]
}