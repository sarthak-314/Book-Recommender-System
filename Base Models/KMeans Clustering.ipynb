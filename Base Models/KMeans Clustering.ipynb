{
  "nbformat": 4,
  "nbformat_minor": 0,
  "metadata": {
    "colab": {
      "name": "K-Means.ipynb",
      "provenance": [],
      "collapsed_sections": [],
      "mount_file_id": "1O6PAkM6Q19Kbbd-6_MlM8LVM1MjvWwOy",
      "authorship_tag": "ABX9TyORlPVGhhVm1PN6aV7Se3RY",
      "include_colab_link": true
    },
    "kernelspec": {
      "name": "python3",
      "display_name": "Python 3"
    }
  },
  "cells": [
    {
      "cell_type": "markdown",
      "metadata": {
        "id": "view-in-github",
        "colab_type": "text"
      },
      "source": [
        "<a href=\"https://colab.research.google.com/github/sarthak-314/Book-Recommender-System/blob/master/Base%20Models/KMeans%20Clustering.ipynb\" target=\"_parent\"><img src=\"https://colab.research.google.com/assets/colab-badge.svg\" alt=\"Open In Colab\"/></a>"
      ]
    },
    {
      "cell_type": "markdown",
      "metadata": {
        "id": "wWZK1r-Jpt9f",
        "colab_type": "text"
      },
      "source": [
        "#**K-Means**\n",
        "\n",
        "***"
      ]
    },
    {
      "cell_type": "code",
      "metadata": {
        "id": "D2DvNmWwoYYS",
        "colab_type": "code",
        "colab": {
          "base_uri": "https://localhost:8080/",
          "height": 34
        },
        "outputId": "84c47b24-9410-42a4-e746-69469733bf7b"
      },
      "source": [
        "import pandas as pd\n",
        "import numpy as np\n",
        "import matplotlib.pyplot as plt\n",
        "from sklearn.cluster import KMeans\n",
        "import os\n",
        "%cd /content/drive/My\\ Drive"
      ],
      "execution_count": null,
      "outputs": [
        {
          "output_type": "stream",
          "text": [
            "/content/drive/My Drive\n"
          ],
          "name": "stdout"
        }
      ]
    },
    {
      "cell_type": "code",
      "metadata": {
        "id": "TnrjzQYktJXW",
        "colab_type": "code",
        "colab": {
          "base_uri": "https://localhost:8080/",
          "height": 383
        },
        "outputId": "99120b7c-bd15-49d9-84dd-d96624ec3428"
      },
      "source": [
        "DF_PATH = './Colab Notebooks/CADABRA/Recommender System/goodreads-10k'\n",
        "books = pd.read_csv(os.path.join(DF_PATH, 'books.csv'))\n",
        "books.head(3)"
      ],
      "execution_count": null,
      "outputs": [
        {
          "output_type": "execute_result",
          "data": {
            "text/html": [
              "<div>\n",
              "<style scoped>\n",
              "    .dataframe tbody tr th:only-of-type {\n",
              "        vertical-align: middle;\n",
              "    }\n",
              "\n",
              "    .dataframe tbody tr th {\n",
              "        vertical-align: top;\n",
              "    }\n",
              "\n",
              "    .dataframe thead th {\n",
              "        text-align: right;\n",
              "    }\n",
              "</style>\n",
              "<table border=\"1\" class=\"dataframe\">\n",
              "  <thead>\n",
              "    <tr style=\"text-align: right;\">\n",
              "      <th></th>\n",
              "      <th>book_id</th>\n",
              "      <th>goodreads_book_id</th>\n",
              "      <th>best_book_id</th>\n",
              "      <th>work_id</th>\n",
              "      <th>books_count</th>\n",
              "      <th>isbn</th>\n",
              "      <th>isbn13</th>\n",
              "      <th>authors</th>\n",
              "      <th>original_publication_year</th>\n",
              "      <th>original_title</th>\n",
              "      <th>title</th>\n",
              "      <th>language_code</th>\n",
              "      <th>average_rating</th>\n",
              "      <th>ratings_count</th>\n",
              "      <th>work_ratings_count</th>\n",
              "      <th>work_text_reviews_count</th>\n",
              "      <th>ratings_1</th>\n",
              "      <th>ratings_2</th>\n",
              "      <th>ratings_3</th>\n",
              "      <th>ratings_4</th>\n",
              "      <th>ratings_5</th>\n",
              "      <th>image_url</th>\n",
              "      <th>small_image_url</th>\n",
              "    </tr>\n",
              "  </thead>\n",
              "  <tbody>\n",
              "    <tr>\n",
              "      <th>0</th>\n",
              "      <td>1</td>\n",
              "      <td>2767052</td>\n",
              "      <td>2767052</td>\n",
              "      <td>2792775</td>\n",
              "      <td>272</td>\n",
              "      <td>439023483</td>\n",
              "      <td>9.780439e+12</td>\n",
              "      <td>Suzanne Collins</td>\n",
              "      <td>2008.0</td>\n",
              "      <td>The Hunger Games</td>\n",
              "      <td>The Hunger Games (The Hunger Games, #1)</td>\n",
              "      <td>eng</td>\n",
              "      <td>4.34</td>\n",
              "      <td>4780653</td>\n",
              "      <td>4942365</td>\n",
              "      <td>155254</td>\n",
              "      <td>66715</td>\n",
              "      <td>127936</td>\n",
              "      <td>560092</td>\n",
              "      <td>1481305</td>\n",
              "      <td>2706317</td>\n",
              "      <td>https://images.gr-assets.com/books/1447303603m...</td>\n",
              "      <td>https://images.gr-assets.com/books/1447303603s...</td>\n",
              "    </tr>\n",
              "    <tr>\n",
              "      <th>1</th>\n",
              "      <td>2</td>\n",
              "      <td>3</td>\n",
              "      <td>3</td>\n",
              "      <td>4640799</td>\n",
              "      <td>491</td>\n",
              "      <td>439554934</td>\n",
              "      <td>9.780440e+12</td>\n",
              "      <td>J.K. Rowling, Mary GrandPré</td>\n",
              "      <td>1997.0</td>\n",
              "      <td>Harry Potter and the Philosopher's Stone</td>\n",
              "      <td>Harry Potter and the Sorcerer's Stone (Harry P...</td>\n",
              "      <td>eng</td>\n",
              "      <td>4.44</td>\n",
              "      <td>4602479</td>\n",
              "      <td>4800065</td>\n",
              "      <td>75867</td>\n",
              "      <td>75504</td>\n",
              "      <td>101676</td>\n",
              "      <td>455024</td>\n",
              "      <td>1156318</td>\n",
              "      <td>3011543</td>\n",
              "      <td>https://images.gr-assets.com/books/1474154022m...</td>\n",
              "      <td>https://images.gr-assets.com/books/1474154022s...</td>\n",
              "    </tr>\n",
              "    <tr>\n",
              "      <th>2</th>\n",
              "      <td>3</td>\n",
              "      <td>41865</td>\n",
              "      <td>41865</td>\n",
              "      <td>3212258</td>\n",
              "      <td>226</td>\n",
              "      <td>316015849</td>\n",
              "      <td>9.780316e+12</td>\n",
              "      <td>Stephenie Meyer</td>\n",
              "      <td>2005.0</td>\n",
              "      <td>Twilight</td>\n",
              "      <td>Twilight (Twilight, #1)</td>\n",
              "      <td>en-US</td>\n",
              "      <td>3.57</td>\n",
              "      <td>3866839</td>\n",
              "      <td>3916824</td>\n",
              "      <td>95009</td>\n",
              "      <td>456191</td>\n",
              "      <td>436802</td>\n",
              "      <td>793319</td>\n",
              "      <td>875073</td>\n",
              "      <td>1355439</td>\n",
              "      <td>https://images.gr-assets.com/books/1361039443m...</td>\n",
              "      <td>https://images.gr-assets.com/books/1361039443s...</td>\n",
              "    </tr>\n",
              "  </tbody>\n",
              "</table>\n",
              "</div>"
            ],
            "text/plain": [
              "   book_id  ...                                    small_image_url\n",
              "0        1  ...  https://images.gr-assets.com/books/1447303603s...\n",
              "1        2  ...  https://images.gr-assets.com/books/1474154022s...\n",
              "2        3  ...  https://images.gr-assets.com/books/1361039443s...\n",
              "\n",
              "[3 rows x 23 columns]"
            ]
          },
          "metadata": {
            "tags": []
          },
          "execution_count": 2
        }
      ]
    },
    {
      "cell_type": "markdown",
      "metadata": {
        "id": "kHe8MTW4HDGE",
        "colab_type": "text"
      },
      "source": [
        "Clusters on basis of two features = average_rating and ratings_count"
      ]
    },
    {
      "cell_type": "code",
      "metadata": {
        "id": "Zu15OAGTtFQg",
        "colab_type": "code",
        "colab": {
          "base_uri": "https://localhost:8080/",
          "height": 153
        },
        "outputId": "a04c2c2d-a0e9-4253-e487-832a5781579c"
      },
      "source": [
        "features = ['average_rating', 'ratings_count']\n",
        "books.dropna(subset=features, inplace=True)\n",
        "data = np.asarray([books[x].values for x in features]).T\n",
        "print('Shape:', data.shape)\n",
        "data"
      ],
      "execution_count": null,
      "outputs": [
        {
          "output_type": "stream",
          "text": [
            "Shape: (9979, 2)\n"
          ],
          "name": "stdout"
        },
        {
          "output_type": "execute_result",
          "data": {
            "text/plain": [
              "array([[4.340000e+00, 4.780653e+06],\n",
              "       [4.440000e+00, 4.602479e+06],\n",
              "       [3.570000e+00, 3.866839e+06],\n",
              "       ...,\n",
              "       [4.350000e+00, 9.421000e+03],\n",
              "       [3.650000e+00, 1.127900e+04],\n",
              "       [4.000000e+00, 9.162000e+03]])"
            ]
          },
          "metadata": {
            "tags": []
          },
          "execution_count": 26
        }
      ]
    },
    {
      "cell_type": "code",
      "metadata": {
        "id": "x-DQeOwKt1-n",
        "colab_type": "code",
        "colab": {}
      },
      "source": [
        "#Inertia is within cluster sum of squares\n",
        "inertia = []\n",
        "for n_clusters in range(1, 26):\n",
        "    kmeans = KMeans(n_clusters)\n",
        "    kmeans.fit(data)\n",
        "    inertia.append(kmeans.inertia_)"
      ],
      "execution_count": null,
      "outputs": []
    },
    {
      "cell_type": "code",
      "metadata": {
        "id": "bwHzG4IBvFKA",
        "colab_type": "code",
        "colab": {
          "base_uri": "https://localhost:8080/",
          "height": 399
        },
        "outputId": "b9e6cd05-3392-45a0-e176-4f355a50ba1d"
      },
      "source": [
        "plt.figure(figsize = (20, 6))\n",
        "plt.plot(list(range(1, 26)), inertia , 'o')\n",
        "plt.plot(list(range(1, 26)), inertia , '-' , alpha = 0.25)\n",
        "plt.xlabel('Number of Clusters') , plt.ylabel('Inertia')\n",
        "plt.show()"
      ],
      "execution_count": null,
      "outputs": [
        {
          "output_type": "display_data",
          "data": {
            "image/png": "[encoded data removed]",
            "text/plain": [
              "<Figure size 1440x432 with 1 Axes>"
            ]
          },
          "metadata": {
            "tags": [],
            "needs_background": "light"
          }
        }
      ]
    },
    {
      "cell_type": "markdown",
      "metadata": {
        "id": "ph09zHBLx60N",
        "colab_type": "text"
      },
      "source": [
        "The elbow is a num_clusters = 2"
      ]
    },
    {
      "cell_type": "code",
      "metadata": {
        "id": "ljkcl7ziG5kS",
        "colab_type": "code",
        "colab": {}
      },
      "source": [
        "kmeans = KMeans(2)\n",
        "predictions = kmeans.fit_predict(data)\n",
        "centers = kmeans.cluster_centers_"
      ],
      "execution_count": null,
      "outputs": []
    },
    {
      "cell_type": "code",
      "metadata": {
        "id": "LVcQ9wtgJ4WZ",
        "colab_type": "code",
        "colab": {
          "base_uri": "https://localhost:8080/",
          "height": 385
        },
        "outputId": "e5167028-ea75-4d13-a83f-11d7c6858713"
      },
      "source": [
        "import seaborn as sns\n",
        "plt.figure(figsize=(20, 6))\n",
        "X1 = [x[0] for i, x in enumerate(data) if predictions[i] == 0]\n",
        "Y1 = [x[1] for i, x in enumerate(data) if predictions[i] == 0]\n",
        "sns.scatterplot(X1, Y1)\n",
        "X2 = [x[0] for i, x in enumerate(data) if predictions[i] == 1]\n",
        "Y2 = [x[1] for i, x in enumerate(data) if predictions[i] == 1]\n",
        "sns.scatterplot(X2, Y2, color='r')\n",
        "_ = sns.scatterplot([x[0] for x in centers], [x[1] for x in centers], color='g')"
      ],
      "execution_count": null,
      "outputs": [
        {
          "output_type": "display_data",
          "data": {
            "image/png": "[encoded data removed]",
            "text/plain": [
              "<Figure size 1440x432 with 1 Axes>"
            ]
          },
          "metadata": {
            "tags": [],
            "needs_background": "light"
          }
        }
      ]
    },
    {
      "cell_type": "markdown",
      "metadata": {
        "id": "u75YN6fHMA5T",
        "colab_type": "text"
      },
      "source": [
        "The red and blue form 2 diffrent clusters. The green dot are the centers of the two clusters"
      ]
    },
    {
      "cell_type": "markdown",
      "metadata": {
        "id": "q-5mG_omPFbG",
        "colab_type": "text"
      },
      "source": [
        "### Recommending Books"
      ]
    },
    {
      "cell_type": "code",
      "metadata": {
        "id": "zuCaDgIqLSZr",
        "colab_type": "code",
        "colab": {}
      },
      "source": [
        "from sklearn.neighbors import NearestNeighbors\n",
        "from sklearn.preprocessing import RobustScaler\n",
        "ratings = pd.read_csv(os.path.join(DF_PATH, 'ratings.csv'))"
      ],
      "execution_count": null,
      "outputs": []
    },
    {
      "cell_type": "code",
      "metadata": {
        "id": "MuPXNpi6QIld",
        "colab_type": "code",
        "colab": {}
      },
      "source": [
        "features = ['average_rating', 'ratings_count', 'books_count', 'original_publication_year']\n",
        "books_features = books[features]\n",
        "scaler = RobustScaler()\n",
        "books_features = scaler.fit_transform(books_features)"
      ],
      "execution_count": null,
      "outputs": []
    },
    {
      "cell_type": "code",
      "metadata": {
        "id": "j2lFy-OlOu5c",
        "colab_type": "code",
        "colab": {}
      },
      "source": [
        "def recommend_n_books(book_id, n):\n",
        "    model = NearestNeighbors(n_neighbors=n)\n",
        "    model.fit(books_features)\n",
        "    distance, indices = model.kneighbors(books_features)\n",
        "    return distance[book_id-1], indices[book_id-1]"
      ],
      "execution_count": null,
      "outputs": []
    },
    {
      "cell_type": "code",
      "metadata": {
        "id": "ZCdUvzenPi62",
        "colab_type": "code",
        "colab": {
          "base_uri": "https://localhost:8080/",
          "height": 68
        },
        "outputId": "ddbef52a-9601-4f94-fec1-fdc2d506d60c"
      },
      "source": [
        "recommend_n_books(10, 10)"
      ],
      "execution_count": null,
      "outputs": [
        {
          "output_type": "execute_result",
          "data": {
            "text/plain": [
              "(array([ 0.        , 36.52996303, 38.97666759, 46.72078759, 47.70382737,\n",
              "        48.50246546, 48.84438243, 53.48131253, 56.35629477, 56.82289195]),\n",
              " array([ 9, 42, 28, 62, 57, 70, 41,  4, 12,  6]))"
            ]
          },
          "metadata": {
            "tags": []
          },
          "execution_count": 141
        }
      ]
    }
  ]
}