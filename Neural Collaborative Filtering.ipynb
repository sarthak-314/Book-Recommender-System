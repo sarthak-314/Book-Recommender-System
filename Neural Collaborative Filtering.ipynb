{
  "nbformat": 4,
  "nbformat_minor": 0,
  "metadata": {
    "colab": {
      "name": "Neural Collaborative.ipynb",
      "provenance": [],
      "collapsed_sections": [],
      "mount_file_id": "1fkFxXygxt642ENw4tFpl32h65aWCoPxU",
      "authorship_tag": "ABX9TyPmFEvFgNj1v05sKMMzu/RZ",
      "include_colab_link": true
    },
    "kernelspec": {
      "name": "python3",
      "display_name": "Python 3"
    },
    "accelerator": "GPU"
  },
  "cells": [
    {
      "cell_type": "markdown",
      "metadata": {
        "id": "view-in-github",
        "colab_type": "text"
      },
      "source": [
        "<a href=\"https://colab.research.google.com/github/sarthak-314/Book-Recommender-System/blob/master/Neural%20Collaborative%20Filtering.ipynb\" target=\"_parent\"><img src=\"https://colab.research.google.com/assets/colab-badge.svg\" alt=\"Open In Colab\"/></a>"
      ]
    },
    {
      "cell_type": "markdown",
      "metadata": {
        "id": "InK_isp2qGy7",
        "colab_type": "text"
      },
      "source": [
        "#**Neural Collaborative Filtering** with Keras\n",
        "***"
      ]
    },
    {
      "cell_type": "code",
      "metadata": {
        "id": "HlS-921tAWDo",
        "colab_type": "code",
        "colab": {
          "base_uri": "https://localhost:8080/",
          "height": 34
        },
        "outputId": "9452c999-c5d7-4a5e-d73a-b852ac6d6f43"
      },
      "source": [
        "import pandas as pd\n",
        "import os\n",
        "%cd /content/drive/My\\ Drive"
      ],
      "execution_count": null,
      "outputs": [
        {
          "output_type": "stream",
          "text": [
            "/content/drive/My Drive\n"
          ],
          "name": "stdout"
        }
      ]
    },
    {
      "cell_type": "code",
      "metadata": {
        "id": "Wyo5f0POBfGH",
        "colab_type": "code",
        "colab": {}
      },
      "source": [
        "DF_PATH = './Colab Notebooks/CADABRA/Recommender System/goodreads-10k'\n",
        "ratings = pd.read_csv(os.path.join(DF_PATH, 'ratings.csv'))"
      ],
      "execution_count": null,
      "outputs": []
    },
    {
      "cell_type": "code",
      "metadata": {
        "id": "WP8bNdwyJey9",
        "colab_type": "code",
        "colab": {
          "base_uri": "https://localhost:8080/",
          "height": 119
        },
        "outputId": "616184dd-910b-4f96-ef52-370a35f8fc4a"
      },
      "source": [
        "ratings.rating.value_counts()"
      ],
      "execution_count": null,
      "outputs": [
        {
          "output_type": "execute_result",
          "data": {
            "text/plain": [
              "4    2139018\n",
              "5    1983093\n",
              "3    1370916\n",
              "2     359257\n",
              "1     124195\n",
              "Name: rating, dtype: int64"
            ]
          },
          "metadata": {
            "tags": []
          },
          "execution_count": 218
        }
      ]
    },
    {
      "cell_type": "markdown",
      "metadata": {
        "id": "ine9h7YCJ8mc",
        "colab_type": "text"
      },
      "source": [
        "**Combining 1 star, 2 star and 3 star ratings**\n",
        "\n",
        "The ratings for the books are heavily skewed towards 4 star (2.1M) and 5 star (1.98M) ratings\n",
        "\n",
        "There are not that many 1 star (124K) and 2 star (359 K) ratings in the dataset. So I balance out the ratings by combining 1 star, 2 star and 3 star ratings (total=1.8M) into one feature. This way all the columns will have close to 2 million ratings availible and the dataset will be balanced"
      ]
    },
    {
      "cell_type": "code",
      "metadata": {
        "id": "XPUfXr63JmwR",
        "colab_type": "code",
        "colab": {
          "base_uri": "https://localhost:8080/",
          "height": 204
        },
        "outputId": "aa941ccc-ef3a-4201-96a8-9f72142a6396"
      },
      "source": [
        "#One Hot encoding along with combining 1, 2, 3 star ratings\n",
        "\n",
        "#5 star ratings go into loved_book column\n",
        "ratings['loved_book'] = (ratings.rating == 5).astype(int)\n",
        "#4 star ratings go into liked_book column\n",
        "ratings['liked_book'] = (ratings.rating == 4).astype(int)\n",
        "#Ratings less than 4 go into did_not_like column\n",
        "ratings['did_not_like'] = (ratings.rating < 4).astype(int)\n",
        "\n",
        "ratings.head()"
      ],
      "execution_count": null,
      "outputs": [
        {
          "output_type": "execute_result",
          "data": {
            "text/html": [
              "<div>\n",
              "<style scoped>\n",
              "    .dataframe tbody tr th:only-of-type {\n",
              "        vertical-align: middle;\n",
              "    }\n",
              "\n",
              "    .dataframe tbody tr th {\n",
              "        vertical-align: top;\n",
              "    }\n",
              "\n",
              "    .dataframe thead th {\n",
              "        text-align: right;\n",
              "    }\n",
              "</style>\n",
              "<table border=\"1\" class=\"dataframe\">\n",
              "  <thead>\n",
              "    <tr style=\"text-align: right;\">\n",
              "      <th></th>\n",
              "      <th>user_id</th>\n",
              "      <th>book_id</th>\n",
              "      <th>rating</th>\n",
              "      <th>loved_book</th>\n",
              "      <th>liked_book</th>\n",
              "      <th>did_not_like</th>\n",
              "    </tr>\n",
              "  </thead>\n",
              "  <tbody>\n",
              "    <tr>\n",
              "      <th>0</th>\n",
              "      <td>1</td>\n",
              "      <td>258</td>\n",
              "      <td>5</td>\n",
              "      <td>1</td>\n",
              "      <td>0</td>\n",
              "      <td>0</td>\n",
              "    </tr>\n",
              "    <tr>\n",
              "      <th>1</th>\n",
              "      <td>2</td>\n",
              "      <td>4081</td>\n",
              "      <td>4</td>\n",
              "      <td>0</td>\n",
              "      <td>1</td>\n",
              "      <td>0</td>\n",
              "    </tr>\n",
              "    <tr>\n",
              "      <th>2</th>\n",
              "      <td>2</td>\n",
              "      <td>260</td>\n",
              "      <td>5</td>\n",
              "      <td>1</td>\n",
              "      <td>0</td>\n",
              "      <td>0</td>\n",
              "    </tr>\n",
              "    <tr>\n",
              "      <th>3</th>\n",
              "      <td>2</td>\n",
              "      <td>9296</td>\n",
              "      <td>5</td>\n",
              "      <td>1</td>\n",
              "      <td>0</td>\n",
              "      <td>0</td>\n",
              "    </tr>\n",
              "    <tr>\n",
              "      <th>4</th>\n",
              "      <td>2</td>\n",
              "      <td>2318</td>\n",
              "      <td>3</td>\n",
              "      <td>0</td>\n",
              "      <td>0</td>\n",
              "      <td>1</td>\n",
              "    </tr>\n",
              "  </tbody>\n",
              "</table>\n",
              "</div>"
            ],
            "text/plain": [
              "   user_id  book_id  rating  loved_book  liked_book  did_not_like\n",
              "0        1      258       5           1           0             0\n",
              "1        2     4081       4           0           1             0\n",
              "2        2      260       5           1           0             0\n",
              "3        2     9296       5           1           0             0\n",
              "4        2     2318       3           0           0             1"
            ]
          },
          "metadata": {
            "tags": []
          },
          "execution_count": 219
        }
      ]
    },
    {
      "cell_type": "code",
      "metadata": {
        "id": "SJaaaF6Szcsw",
        "colab_type": "code",
        "colab": {}
      },
      "source": [
        "TOTAL_USERS = ratings.user_id.nunique()\n",
        "TOTAL_BOOKS = ratings.book_id.nunique()"
      ],
      "execution_count": null,
      "outputs": []
    },
    {
      "cell_type": "code",
      "metadata": {
        "id": "bp08a9D01IGC",
        "colab_type": "code",
        "colab": {}
      },
      "source": [
        "import numpy as np\n",
        "X = np.stack([ratings.user_id.values, ratings.book_id.values], axis=-1)\n",
        "Y = np.stack([ratings.loved_book, ratings.liked_book, ratings.did_not_like], axis=-1)"
      ],
      "execution_count": null,
      "outputs": []
    },
    {
      "cell_type": "markdown",
      "metadata": {
        "id": "ysw4wmHSNXrL",
        "colab_type": "text"
      },
      "source": [
        "In the dataset, user_id and book_id start from 1. But numpy and python follow a 0-based indexing rule. So user_id = 1 will be at row = 0, user_id = 2 at row = 1 and so on\n",
        "\n",
        "Therefore I **subtract 1 from user_id and book_id**, so that they become zero indexed as well and I can referace them by their index "
      ]
    },
    {
      "cell_type": "code",
      "metadata": {
        "id": "Tt-u86EoNXbN",
        "colab_type": "code",
        "colab": {}
      },
      "source": [
        "X[:, 0] -= 1\n",
        "X[:, 1] -= 1"
      ],
      "execution_count": null,
      "outputs": []
    },
    {
      "cell_type": "code",
      "metadata": {
        "id": "FR0f6gHm1NBf",
        "colab_type": "code",
        "colab": {}
      },
      "source": [
        "from sklearn.model_selection import train_test_split\n",
        "X_train, X_test, Y_train, Y_test = train_test_split(X, Y, stratify=Y)"
      ],
      "execution_count": null,
      "outputs": []
    },
    {
      "cell_type": "code",
      "metadata": {
        "id": "Hb-BA5RCAO95",
        "colab_type": "code",
        "colab": {}
      },
      "source": [
        "import keras\n",
        "from keras.models import Model\n",
        "from keras.regularizers import l2\n",
        "from keras import layers"
      ],
      "execution_count": null,
      "outputs": []
    },
    {
      "cell_type": "markdown",
      "metadata": {
        "id": "rVn_wAjXxFH0",
        "colab_type": "text"
      },
      "source": [
        "![title](https://miro.medium.com/max/1952/1*aP-Mx266ExwoWZPSdHtYpA.png)\n"
      ]
    },
    {
      "cell_type": "markdown",
      "metadata": {
        "id": "EXNYjaYcN7Ph",
        "colab_type": "text"
      },
      "source": [
        "Making the model (based on [Neural Collaborative Filtering](https://arxiv.org/pdf/1708.05031.pdf))"
      ]
    },
    {
      "cell_type": "code",
      "metadata": {
        "id": "oNhIU01h5S0j",
        "colab_type": "code",
        "colab": {}
      },
      "source": [
        "class BookRecommender(Model):\n",
        "    def __init__(self, num_users, num_books, embedding_dim):\n",
        "        super().__init__()\n",
        "        self.num_users = num_users\n",
        "        self.num_books = num_books\n",
        "        self.embedding_dim = embedding_dim\n",
        "        \n",
        "        #The paper uses random initialization, but I use he_normal \n",
        "        #because it gives better accuracy for a small change\n",
        "        self.user_embedding = layers.Embedding(num_users, embedding_dim,\n",
        "                                                embeddings_initializer='he_normal',\n",
        "                                                embeddings_regularizer=l2(0.001))\n",
        "        \n",
        "        #Performance of the model can be improved by adding user and book bias terms\n",
        "        #If Yash normally rates the books between 1-3 stars, but he gave some book 5 star, he must really love it!\n",
        "        self.user_bias = layers.Embedding(num_users, 1)\n",
        "        self.book_embedding = layers.Embedding(num_books, embedding_dim, \n",
        "                                               embeddings_initializer='he_normal',\n",
        "                                               embeddings_regularizer=l2(0.001))\n",
        "        \n",
        "        self.book_bias = layers.Embedding(num_books, 1)\n",
        "        classes = ['loved_book', 'liked_book', 'did_not_like']\n",
        "        #Freestyling the number of neurons\n",
        "        self.lin_1 = layers.Dense(2, activation='relu')\n",
        "        self.lin_2 = layers.Dense(4, activation='relu')\n",
        "        self.out_lin = layers.Dense(len(classes), activation='relu')\n",
        "        self.drop_1 = layers.Dropout(0.5)\n",
        "        self.drop_2 = layers.Dropout(0.3)\n",
        "    '''\n",
        "    Instead of passing sparse user vector and a sparse book vector, I pass\n",
        "    the user and book as a pair, so ignore the first layer of the digram\n",
        "    '''\n",
        "    def call(self, ratings, training=False): \n",
        "        user_vector = self.user_embedding(ratings[:, 0])\n",
        "        user_bias = self.user_bias(ratings[:, 0])\n",
        "        book_vector = self.book_embedding(ratings[:, 1])\n",
        "        book_bias = self.book_bias(ratings[:, 1])\n",
        "        #User-book interaction\n",
        "        user_book_dot = layers.Dot(1)([user_vector, book_vector])\n",
        "        x = user_book_dot + user_bias + book_bias\n",
        "        if training:\n",
        "            x = self.lin_2(self.drop_1(self.lin_1(x)))\n",
        "            x = self.drop_2(x)\n",
        "        else: \n",
        "            x = self.lin_2(self.lin_1(x))    \n",
        "        x = self.out_lin(x)\n",
        "        #Softmax to get probabilities\n",
        "        output = layers.Softmax()(x)\n",
        "        return output"
      ],
      "execution_count": null,
      "outputs": []
    },
    {
      "cell_type": "code",
      "metadata": {
        "id": "mXFmiBY9C8Jo",
        "colab_type": "code",
        "colab": {}
      },
      "source": [
        "import keras\n",
        "from keras.losses import CategoricalCrossentropy\n",
        "#50 causes overfitting\n",
        "EMBEDDING_DIM = 20\n",
        "model = BookRecommender(TOTAL_USERS, TOTAL_BOOKS, EMBEDDING_DIM)\n",
        "#Adam optimizer used in the paper\n",
        "model.compile(loss=CategoricalCrossentropy(from_logits=True), optimizer=keras.optimizers.Adam(lr=0.001))"
      ],
      "execution_count": null,
      "outputs": []
    },
    {
      "cell_type": "code",
      "metadata": {
        "id": "gdwIwWMI4KUM",
        "colab_type": "code",
        "colab": {}
      },
      "source": [
        "BATCH_SIZE = 100000\n",
        "EPOCHS = 1"
      ],
      "execution_count": null,
      "outputs": []
    },
    {
      "cell_type": "code",
      "metadata": {
        "id": "jhdwEiFVDZnt",
        "colab_type": "code",
        "colab": {
          "base_uri": "https://localhost:8080/",
          "height": 34
        },
        "outputId": "8d621d6f-67c9-4878-888d-28b6b6218631"
      },
      "source": [
        "history = model.fit(\n",
        "    x=X_train,\n",
        "    y=Y_train,\n",
        "    batch_size=BATCH_SIZE,\n",
        "    epochs=EPOCHS,\n",
        "    validation_data=(X_test, Y_test)\n",
        ")"
      ],
      "execution_count": null,
      "outputs": [
        {
          "output_type": "stream",
          "text": [
            "45/45 [==============================] - 2s 37ms/step - loss: 1.0877 - val_loss: 1.0845\n"
          ],
          "name": "stdout"
        }
      ]
    },
    {
      "cell_type": "code",
      "metadata": {
        "id": "QrnGi7A8Bl6V",
        "colab_type": "code",
        "colab": {
          "base_uri": "https://localhost:8080/",
          "height": 513
        },
        "outputId": "2e04b053-d8a7-44f8-8df0-b054ef4d37cb"
      },
      "source": [
        "import matplotlib.pyplot as plt\n",
        "plt.figure(figsize=(16, 8))\n",
        "plt.plot(history.history[\"loss\"])\n",
        "plt.plot(history.history[\"val_loss\"])\n",
        "plt.title(\"Model loss\")\n",
        "plt.ylabel(\"Loss\")\n",
        "plt.xlabel(\"Epoch\")\n",
        "plt.legend([\"train\", \"test\"])\n",
        "plt.show()"
      ],
      "execution_count": null,
      "outputs": [
        {
          "output_type": "display_data",
          "data": {
            "image/png": "[encoded data removed]",
            "text/plain": [
              "<Figure size 1152x576 with 1 Axes>"
            ]
          },
          "metadata": {
            "tags": [],
            "needs_background": "light"
          }
        }
      ]
    },
    {
      "cell_type": "markdown",
      "metadata": {
        "id": "hzyXLRMwCEue",
        "colab_type": "text"
      },
      "source": [
        "Let's save the model"
      ]
    },
    {
      "cell_type": "code",
      "metadata": {
        "id": "KY786upn1tkW",
        "colab_type": "code",
        "colab": {
          "base_uri": "https://localhost:8080/",
          "height": 34
        },
        "outputId": "83c1eec4-0ae0-4da2-e6e2-e94b58c76338"
      },
      "source": [
        "SAVE_PATH = '/content/drive/My Drive/Colab Notebooks/CADABRA/Recommender System/NCF1'\n",
        "model.save(SAVE_PATH)"
      ],
      "execution_count": null,
      "outputs": [
        {
          "output_type": "stream",
          "text": [
            "INFO:tensorflow:Assets written to: /content/drive/My Drive/Colab Notebooks/CADABRA/Recommender System/NCF1/assets\n"
          ],
          "name": "stdout"
        }
      ]
    },
    {
      "cell_type": "markdown",
      "metadata": {
        "id": "Ty3Hc1QcCrww",
        "colab_type": "text"
      },
      "source": [
        "Function to get predicted ratings for non-rated books for a user"
      ]
    },
    {
      "cell_type": "code",
      "metadata": {
        "id": "Ab7f4YS6oPGD",
        "colab_type": "code",
        "colab": {}
      },
      "source": [
        "def get_predicted_ratings_for(user_id):\n",
        "    books_rated = ratings[ratings.user_id==user_id]\n",
        "    books_not_rated_df = ratings[~ratings.book_id.isin(books_rated.book_id.values)].book_id\n",
        "    books_not_rated = [[x-1] for x in books_not_rated_df.values]\n",
        "    input = np.hstack(([user_id-1])*len(books_not_rated), books_not_rated)\n",
        "    output = model.predict(input)\n",
        "    predicted_ratings = {\n",
        "        'loved_book': output[:, 0], \n",
        "        'liked_book': output[:, 1], \n",
        "        'did_not_like': output[:, 2]\n",
        "    }"
      ],
      "execution_count": null,
      "outputs": []
    },
    {
      "cell_type": "markdown",
      "metadata": {
        "id": "QbEo5sCsp8F8",
        "colab_type": "text"
      },
      "source": [
        "Get top n recommendations for a user"
      ]
    },
    {
      "cell_type": "code",
      "metadata": {
        "id": "u5cPYO9CE5rM",
        "colab_type": "code",
        "colab": {}
      },
      "source": [
        "def get_n_reccomendations_for_user(user_id, n):\n",
        "    predicted_ratings = get_predicted_ratings_for(user_id)\n",
        "    loved_books = predicted_ratings['loved_book']\n",
        "    top_n_books = loved_books.argsort()[-n:][::-1]\n",
        "    book_ids = [x+1 for x in top_n_books]\n",
        "    return book_ids"
      ],
      "execution_count": null,
      "outputs": []
    },
    {
      "cell_type": "markdown",
      "metadata": {
        "id": "c8HzjgqoDxYa",
        "colab_type": "text"
      },
      "source": [
        "##**Original Model Implementation**\n",
        "In this section, I will try to implement the model as it is in the paper. Also, I will use Keras Functional API this time to get the flavor of Keras, because last coding the model felt too much like PyTorch "
      ]
    },
    {
      "cell_type": "markdown",
      "metadata": {
        "id": "k_jaHF2SHDSl",
        "colab_type": "text"
      },
      "source": [
        "![title](https://miro.medium.com/max/1952/1*aP-Mx266ExwoWZPSdHtYpA.png)\n"
      ]
    },
    {
      "cell_type": "code",
      "metadata": {
        "id": "Rn1y7OVDBTUA",
        "colab_type": "code",
        "colab": {}
      },
      "source": [
        "input_user = keras.Input(shape=(TOTAL_USERS, ))\n",
        "input_book = keras.Input(shape=(TOTAL_BOOKS, ))\n",
        "\n",
        "user_vector = layers.Embedding(TOTAL_USERS, EMBEDDING_DIM, embeddings_initializer='he_normal', embeddings_regularizer=l2(0.001))(input_user)\n",
        "book_vector = layers.Embedding(TOTAL_BOOKS, EMBEDDING_DIM, embeddings_initializer='he_normal', embeddings_regularizer=l2(0.001))(input_book)\n",
        "\n",
        "x = layers.Concatenate(1)([user_vector, book_vector])\n",
        "x = keras.backend.sum(x, axis=1)\n",
        "x = layers.Dense(32, activation='relu')(x)\n",
        "x = layers.Dropout(0.5)(x)\n",
        "x = layers.Dense(8, activation='relu')(x)\n",
        "x = layers.Dropout(0.5)(x)\n",
        "x = layers.Dense(3)(x)\n",
        "outputs = layers.Softmax()(x)"
      ],
      "execution_count": null,
      "outputs": []
    },
    {
      "cell_type": "code",
      "metadata": {
        "id": "bK4YORrYBTWX",
        "colab_type": "code",
        "colab": {}
      },
      "source": [
        "model = Model(inputs=[input_user, input_book], outputs=outputs, name='book_recommender')\n",
        "model.summary()"
      ],
      "execution_count": null,
      "outputs": []
    },
    {
      "cell_type": "code",
      "metadata": {
        "id": "Vti6JijLKkE8",
        "colab_type": "code",
        "colab": {}
      },
      "source": [
        "#Plotting the model\n",
        "model.compile(loss=CategoricalCrossentropy(from_logits=True), optimizer=keras.optimizers.Adam(lr=0.001))\n",
        "keras.utils.plot_model(model, show_shapes=True)"
      ],
      "execution_count": null,
      "outputs": []
    },
    {
      "cell_type": "code",
      "metadata": {
        "id": "vnoGmpseMh66",
        "colab_type": "code",
        "colab": {}
      },
      "source": [
        "class UserBookPairGenerator(keras.utils.Sequence):\n",
        "    def __init__(self, ratings, batch_size=32):\n",
        "        self.batch_size=batch_size\n",
        "        self.user_ids = ratings.user_id.values\n",
        "        self.book_ids = ratings.book_id.values\n",
        "        self.ratings = ratings.rating\n",
        "\n",
        "    def __len__(self):\n",
        "        #Batches per epoch\n",
        "        return len(self.user_ids) // self.batch_size\n",
        "    \n",
        "    #Generates one batch of data\n",
        "    def __getitem__(self, batch_index): \n",
        "        indexes = list(range(batch_index*self.batch_size,(batch_index+1)*self.batch_size))\n",
        "        users_one_hot = np.zeros((self.batch_size, TOTAL_USERS))\n",
        "        #Hacky code\n",
        "        books_one_hot = np.zeros((self.batch_size, TOTAL_BOOKS+1))\n",
        "        #user_id = self.user_id[i] for i in indexes, user_id-1\n",
        "        for e, idx in enumerate(indexes):\n",
        "            user_id, book_id = self.user_ids[idx], self.book_ids[idx]\n",
        "            users_one_hot[e, user_id] = 1\n",
        "            books_one_hot[e, book_id] = 1\n",
        "        one_hot_ratings = self.get_one_hot_ratings(indexes)\n",
        "        return [users_one_hot, books_one_hot], one_hot_ratings\n",
        "    def get_one_hot_ratings(self, indexes):\n",
        "        ratings = self.ratings.iloc[indexes]\n",
        "        a = (ratings == 5).astype(int)\n",
        "        b = (ratings == 4).astype(int)\n",
        "        c = (ratings < 4).astype(int)\n",
        "        return np.stack([a, b, c], axis=-1)"
      ],
      "execution_count": null,
      "outputs": []
    },
    {
      "cell_type": "code",
      "metadata": {
        "id": "TVr1fkfPzOfF",
        "colab_type": "code",
        "colab": {}
      },
      "source": [
        "from sklearn.model_selection import train_test_split\n",
        "train, test = train_test_split(ratings, stratify=ratings.rating)\n",
        "\n",
        "training_generator = UserBookPairGenerator(train)\n",
        "validation_generator = UserBookPairGenerator(test)"
      ],
      "execution_count": null,
      "outputs": []
    },
    {
      "cell_type": "code",
      "metadata": {
        "id": "7qSHBtfli5hM",
        "colab_type": "code",
        "colab": {}
      },
      "source": [
        "history = model.fit_generator(generator=training_generator, epochs=5, validation_data=validation_generator)"
      ],
      "execution_count": null,
      "outputs": []
    },
    {
      "cell_type": "code",
      "metadata": {
        "id": "iVW0l24xyl0X",
        "colab_type": "code",
        "colab": {}
      },
      "source": [
        "import matplotlib.pyplot as plt\n",
        "plt.figure(figsize=(16, 8))\n",
        "plt.plot(history.history[\"loss\"])\n",
        "plt.plot(history.history[\"val_loss\"])\n",
        "plt.title(\"Model loss\")\n",
        "plt.ylabel(\"Loss\")\n",
        "plt.xlabel(\"Epoch\")\n",
        "plt.legend([\"train\", \"test\"])\n",
        "plt.show()"
      ],
      "execution_count": null,
      "outputs": []
    },
    {
      "cell_type": "code",
      "metadata": {
        "id": "xxLMW6lEylvS",
        "colab_type": "code",
        "colab": {}
      },
      "source": [
        "SAVE_PATH = '/content/drive/My Drive/Colab Notebooks/CADABRA/NCF2'\n",
        "model.save(SAVE_PATH)"
      ],
      "execution_count": null,
      "outputs": []
    }
  ]
}