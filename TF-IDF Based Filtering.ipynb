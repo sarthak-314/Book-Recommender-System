{
  "nbformat": 4,
  "nbformat_minor": 0,
  "metadata": {
    "colab": {
      "name": "TF-IDF Filtering.ipynb",
      "provenance": [],
      "mount_file_id": "1bhXY0ystSy88hIsPMEvassKeuJMpWjdP",
      "authorship_tag": "ABX9TyNmoIJc9rdcbpbi0uba6QCz",
      "include_colab_link": true
    },
    "kernelspec": {
      "name": "python3",
      "display_name": "Python 3"
    }
  },
  "cells": [
    {
      "cell_type": "markdown",
      "metadata": {
        "id": "view-in-github",
        "colab_type": "text"
      },
      "source": [
        "<a href=\"https://colab.research.google.com/github/sarthak-314/Book-Recommender-System/blob/master/TF-IDF%20Based%20Filtering.ipynb\" target=\"_parent\"><img src=\"https://colab.research.google.com/assets/colab-badge.svg\" alt=\"Open In Colab\"/></a>"
      ]
    },
    {
      "cell_type": "markdown",
      "metadata": {
        "id": "IaEdWA1Y9av8",
        "colab_type": "text"
      },
      "source": [
        "# **TF-IDF FILTERING**\n",
        "***"
      ]
    },
    {
      "cell_type": "code",
      "metadata": {
        "id": "KDzO1gb35Ufq",
        "colab_type": "code",
        "colab": {
          "base_uri": "https://localhost:8080/",
          "height": 34
        },
        "outputId": "b9a8c9f7-2b1a-4f38-cc7a-4100b9d291b0"
      },
      "source": [
        "import pandas as pd\n",
        "import os\n",
        "\n",
        "%cd /content/drive/My\\ Drive"
      ],
      "execution_count": null,
      "outputs": [
        {
          "output_type": "stream",
          "text": [
            "/content/drive/My Drive\n"
          ],
          "name": "stdout"
        }
      ]
    },
    {
      "cell_type": "code",
      "metadata": {
        "id": "euU8QAmR6fbX",
        "colab_type": "code",
        "colab": {}
      },
      "source": [
        "#Load the dataframes\n",
        "DF_PATH = './Colab Notebooks/CADABRA/Recommender System/goodreads-10k'\n",
        "\n",
        "books = pd.read_csv(os.path.join(DF_PATH, 'books.csv'))\n",
        "book_tags = pd.read_csv(os.path.join(DF_PATH, 'book_tags.csv'))\n",
        "ratings = pd.read_csv(os.path.join(DF_PATH, 'ratings.csv'))\n",
        "tags = pd.read_csv(os.path.join(DF_PATH, 'tags.csv'))\n",
        "to_read = pd.read_csv(os.path.join(DF_PATH, 'to_read.csv'))"
      ],
      "execution_count": null,
      "outputs": []
    },
    {
      "cell_type": "markdown",
      "metadata": {
        "id": "1jCjBayR7O_h",
        "colab_type": "text"
      },
      "source": [
        "***\n",
        "## **Common Tags Recommender**: Recommend books with similar tags\n",
        "Recommend books with similar tags where the tags are weighted by IDF."
      ]
    },
    {
      "cell_type": "code",
      "metadata": {
        "id": "fUED_ZzP7Qmc",
        "colab_type": "code",
        "colab": {}
      },
      "source": [
        "TOTAL_BOOKS = book_tags.goodreads_book_id.nunique()\n",
        "TOTAL_TAGS = book_tags.tag_id.nunique()\n",
        "TOTAL_TAG_COUNTS_SUM = book_tags.groupby('tag_id')['count'].sum().sum()"
      ],
      "execution_count": null,
      "outputs": []
    },
    {
      "cell_type": "code",
      "metadata": {
        "id": "zjY_AWex8xCz",
        "colab_type": "code",
        "colab": {
          "base_uri": "https://localhost:8080/",
          "height": 204
        },
        "outputId": "0f988982-ce8c-4940-d369-7c2b760d037c"
      },
      "source": [
        "book_tags.head()"
      ],
      "execution_count": null,
      "outputs": [
        {
          "output_type": "execute_result",
          "data": {
            "text/html": [
              "<div>\n",
              "<style scoped>\n",
              "    .dataframe tbody tr th:only-of-type {\n",
              "        vertical-align: middle;\n",
              "    }\n",
              "\n",
              "    .dataframe tbody tr th {\n",
              "        vertical-align: top;\n",
              "    }\n",
              "\n",
              "    .dataframe thead th {\n",
              "        text-align: right;\n",
              "    }\n",
              "</style>\n",
              "<table border=\"1\" class=\"dataframe\">\n",
              "  <thead>\n",
              "    <tr style=\"text-align: right;\">\n",
              "      <th></th>\n",
              "      <th>goodreads_book_id</th>\n",
              "      <th>tag_id</th>\n",
              "      <th>count</th>\n",
              "    </tr>\n",
              "  </thead>\n",
              "  <tbody>\n",
              "    <tr>\n",
              "      <th>0</th>\n",
              "      <td>1</td>\n",
              "      <td>30574</td>\n",
              "      <td>167697</td>\n",
              "    </tr>\n",
              "    <tr>\n",
              "      <th>1</th>\n",
              "      <td>1</td>\n",
              "      <td>11305</td>\n",
              "      <td>37174</td>\n",
              "    </tr>\n",
              "    <tr>\n",
              "      <th>2</th>\n",
              "      <td>1</td>\n",
              "      <td>11557</td>\n",
              "      <td>34173</td>\n",
              "    </tr>\n",
              "    <tr>\n",
              "      <th>3</th>\n",
              "      <td>1</td>\n",
              "      <td>8717</td>\n",
              "      <td>12986</td>\n",
              "    </tr>\n",
              "    <tr>\n",
              "      <th>4</th>\n",
              "      <td>1</td>\n",
              "      <td>33114</td>\n",
              "      <td>12716</td>\n",
              "    </tr>\n",
              "  </tbody>\n",
              "</table>\n",
              "</div>"
            ],
            "text/plain": [
              "   goodreads_book_id  tag_id   count\n",
              "0                  1   30574  167697\n",
              "1                  1   11305   37174\n",
              "2                  1   11557   34173\n",
              "3                  1    8717   12986\n",
              "4                  1   33114   12716"
            ]
          },
          "metadata": {
            "tags": []
          },
          "execution_count": 4
        }
      ]
    },
    {
      "cell_type": "code",
      "metadata": {
        "id": "4Sgl51Hw9KPC",
        "colab_type": "code",
        "colab": {
          "base_uri": "https://localhost:8080/",
          "height": 170
        },
        "outputId": "b385ccb4-aeb6-4919-c824-15f7334b8b74"
      },
      "source": [
        "book_tags.tag_id.value_counts().describe()"
      ],
      "execution_count": null,
      "outputs": [
        {
          "output_type": "execute_result",
          "data": {
            "text/plain": [
              "count    34252.000000\n",
              "mean        29.192806\n",
              "std        277.254715\n",
              "min          1.000000\n",
              "25%          1.000000\n",
              "50%          1.000000\n",
              "75%          5.000000\n",
              "max       9983.000000\n",
              "Name: tag_id, dtype: float64"
            ]
          },
          "metadata": {
            "tags": []
          },
          "execution_count": 5
        }
      ]
    },
    {
      "cell_type": "markdown",
      "metadata": {
        "id": "INJn0DKi9VU4",
        "colab_type": "text"
      },
      "source": [
        "Almost half of the tags are unique with only 1 tag. We have to be extra careful with noise"
      ]
    },
    {
      "cell_type": "code",
      "metadata": {
        "id": "An_1Xxjb8pse",
        "colab_type": "code",
        "colab": {}
      },
      "source": [
        "import numpy as np\n",
        "tag_counts = book_tags.groupby('tag_id')['count'].sum()\n",
        "NOISE_REDUCE_TERM = 25\n",
        "def get_idf(tag):\n",
        "    tag_count = tag_counts[tag]\n",
        "    #Last \n",
        "    return np.log(TOTAL_TAG_COUNTS_SUM/(tag_count+NOISE_REDUCE_TERM))\n",
        "\n",
        "book_tags['idf'] = book_tags.tag_id.apply(get_idf)"
      ],
      "execution_count": null,
      "outputs": []
    },
    {
      "cell_type": "code",
      "metadata": {
        "id": "iAGoybWl_RfM",
        "colab_type": "code",
        "colab": {
          "base_uri": "https://localhost:8080/",
          "height": 204
        },
        "outputId": "6134bf66-57ad-48fc-d848-8d048c25e2c9"
      },
      "source": [
        "book_tags.head(5)"
      ],
      "execution_count": null,
      "outputs": [
        {
          "output_type": "execute_result",
          "data": {
            "text/html": [
              "<div>\n",
              "<style scoped>\n",
              "    .dataframe tbody tr th:only-of-type {\n",
              "        vertical-align: middle;\n",
              "    }\n",
              "\n",
              "    .dataframe tbody tr th {\n",
              "        vertical-align: top;\n",
              "    }\n",
              "\n",
              "    .dataframe thead th {\n",
              "        text-align: right;\n",
              "    }\n",
              "</style>\n",
              "<table border=\"1\" class=\"dataframe\">\n",
              "  <thead>\n",
              "    <tr style=\"text-align: right;\">\n",
              "      <th></th>\n",
              "      <th>goodreads_book_id</th>\n",
              "      <th>tag_id</th>\n",
              "      <th>count</th>\n",
              "      <th>idf</th>\n",
              "    </tr>\n",
              "  </thead>\n",
              "  <tbody>\n",
              "    <tr>\n",
              "      <th>0</th>\n",
              "      <td>1</td>\n",
              "      <td>30574</td>\n",
              "      <td>167697</td>\n",
              "      <td>0.394859</td>\n",
              "    </tr>\n",
              "    <tr>\n",
              "      <th>1</th>\n",
              "      <td>1</td>\n",
              "      <td>11305</td>\n",
              "      <td>37174</td>\n",
              "      <td>4.075187</td>\n",
              "    </tr>\n",
              "    <tr>\n",
              "      <th>2</th>\n",
              "      <td>1</td>\n",
              "      <td>11557</td>\n",
              "      <td>34173</td>\n",
              "      <td>3.836834</td>\n",
              "    </tr>\n",
              "    <tr>\n",
              "      <th>3</th>\n",
              "      <td>1</td>\n",
              "      <td>8717</td>\n",
              "      <td>12986</td>\n",
              "      <td>3.325655</td>\n",
              "    </tr>\n",
              "    <tr>\n",
              "      <th>4</th>\n",
              "      <td>1</td>\n",
              "      <td>33114</td>\n",
              "      <td>12716</td>\n",
              "      <td>4.727339</td>\n",
              "    </tr>\n",
              "  </tbody>\n",
              "</table>\n",
              "</div>"
            ],
            "text/plain": [
              "   goodreads_book_id  tag_id   count       idf\n",
              "0                  1   30574  167697  0.394859\n",
              "1                  1   11305   37174  4.075187\n",
              "2                  1   11557   34173  3.836834\n",
              "3                  1    8717   12986  3.325655\n",
              "4                  1   33114   12716  4.727339"
            ]
          },
          "metadata": {
            "tags": []
          },
          "execution_count": 7
        }
      ]
    },
    {
      "cell_type": "code",
      "metadata": {
        "id": "L6kleiUc_mDZ",
        "colab_type": "code",
        "colab": {
          "base_uri": "https://localhost:8080/",
          "height": 142
        },
        "outputId": "143c0f2a-dc44-425a-8aa4-5dd42c31e915"
      },
      "source": [
        "#Get the name of the tags in book_tags\n",
        "book_tags = book_tags.merge(tags)\n",
        "book_tags.head(3)"
      ],
      "execution_count": null,
      "outputs": [
        {
          "output_type": "execute_result",
          "data": {
            "text/html": [
              "<div>\n",
              "<style scoped>\n",
              "    .dataframe tbody tr th:only-of-type {\n",
              "        vertical-align: middle;\n",
              "    }\n",
              "\n",
              "    .dataframe tbody tr th {\n",
              "        vertical-align: top;\n",
              "    }\n",
              "\n",
              "    .dataframe thead th {\n",
              "        text-align: right;\n",
              "    }\n",
              "</style>\n",
              "<table border=\"1\" class=\"dataframe\">\n",
              "  <thead>\n",
              "    <tr style=\"text-align: right;\">\n",
              "      <th></th>\n",
              "      <th>goodreads_book_id</th>\n",
              "      <th>tag_id</th>\n",
              "      <th>count</th>\n",
              "      <th>idf</th>\n",
              "      <th>tag_name</th>\n",
              "    </tr>\n",
              "  </thead>\n",
              "  <tbody>\n",
              "    <tr>\n",
              "      <th>0</th>\n",
              "      <td>1</td>\n",
              "      <td>30574</td>\n",
              "      <td>167697</td>\n",
              "      <td>0.394859</td>\n",
              "      <td>to-read</td>\n",
              "    </tr>\n",
              "    <tr>\n",
              "      <th>1</th>\n",
              "      <td>2</td>\n",
              "      <td>30574</td>\n",
              "      <td>24549</td>\n",
              "      <td>0.394859</td>\n",
              "      <td>to-read</td>\n",
              "    </tr>\n",
              "    <tr>\n",
              "      <th>2</th>\n",
              "      <td>3</td>\n",
              "      <td>30574</td>\n",
              "      <td>496107</td>\n",
              "      <td>0.394859</td>\n",
              "      <td>to-read</td>\n",
              "    </tr>\n",
              "  </tbody>\n",
              "</table>\n",
              "</div>"
            ],
            "text/plain": [
              "   goodreads_book_id  tag_id   count       idf tag_name\n",
              "0                  1   30574  167697  0.394859  to-read\n",
              "1                  2   30574   24549  0.394859  to-read\n",
              "2                  3   30574  496107  0.394859  to-read"
            ]
          },
          "metadata": {
            "tags": []
          },
          "execution_count": 8
        }
      ]
    },
    {
      "cell_type": "code",
      "metadata": {
        "id": "Ffdax1Dg-sYy",
        "colab_type": "code",
        "colab": {}
      },
      "source": [
        "#returns tag_id, count, tag_name for the book with sorted order of count\n",
        "def get_tags_by_title(title):\n",
        "    row = books.loc[books.title==title]\n",
        "    goodreads_book_id = int(row.goodreads_book_id)\n",
        "    tag_ids_df = book_tags.loc[book_tags.goodreads_book_id==goodreads_book_id]\n",
        "    tag_ids = tag_ids_df.drop('goodreads_book_id', axis=1).sort_values(by='count', ascending=False).reset_index(drop=True)\n",
        "    return tag_ids"
      ],
      "execution_count": null,
      "outputs": []
    },
    {
      "cell_type": "code",
      "metadata": {
        "id": "SwcnrJ2k-ut2",
        "colab_type": "code",
        "colab": {
          "base_uri": "https://localhost:8080/",
          "height": 204
        },
        "outputId": "4f9188d1-bafc-4578-97d3-9da6bfc6656f"
      },
      "source": [
        "get_tags_by_title('The Hunger Games (The Hunger Games, #1)').head()"
      ],
      "execution_count": null,
      "outputs": [
        {
          "output_type": "execute_result",
          "data": {
            "text/html": [
              "<div>\n",
              "<style scoped>\n",
              "    .dataframe tbody tr th:only-of-type {\n",
              "        vertical-align: middle;\n",
              "    }\n",
              "\n",
              "    .dataframe tbody tr th {\n",
              "        vertical-align: top;\n",
              "    }\n",
              "\n",
              "    .dataframe thead th {\n",
              "        text-align: right;\n",
              "    }\n",
              "</style>\n",
              "<table border=\"1\" class=\"dataframe\">\n",
              "  <thead>\n",
              "    <tr style=\"text-align: right;\">\n",
              "      <th></th>\n",
              "      <th>tag_id</th>\n",
              "      <th>count</th>\n",
              "      <th>idf</th>\n",
              "      <th>tag_name</th>\n",
              "    </tr>\n",
              "  </thead>\n",
              "  <tbody>\n",
              "    <tr>\n",
              "      <th>0</th>\n",
              "      <td>11557</td>\n",
              "      <td>50755</td>\n",
              "      <td>3.836834</td>\n",
              "      <td>favorites</td>\n",
              "    </tr>\n",
              "    <tr>\n",
              "      <th>1</th>\n",
              "      <td>8717</td>\n",
              "      <td>35418</td>\n",
              "      <td>3.325655</td>\n",
              "      <td>currently-reading</td>\n",
              "    </tr>\n",
              "    <tr>\n",
              "      <th>2</th>\n",
              "      <td>33114</td>\n",
              "      <td>25968</td>\n",
              "      <td>4.727339</td>\n",
              "      <td>young-adult</td>\n",
              "    </tr>\n",
              "    <tr>\n",
              "      <th>3</th>\n",
              "      <td>11743</td>\n",
              "      <td>13819</td>\n",
              "      <td>4.036309</td>\n",
              "      <td>fiction</td>\n",
              "    </tr>\n",
              "    <tr>\n",
              "      <th>4</th>\n",
              "      <td>10064</td>\n",
              "      <td>12985</td>\n",
              "      <td>6.609202</td>\n",
              "      <td>dystopian</td>\n",
              "    </tr>\n",
              "  </tbody>\n",
              "</table>\n",
              "</div>"
            ],
            "text/plain": [
              "   tag_id  count       idf           tag_name\n",
              "0   11557  50755  3.836834          favorites\n",
              "1    8717  35418  3.325655  currently-reading\n",
              "2   33114  25968  4.727339        young-adult\n",
              "3   11743  13819  4.036309            fiction\n",
              "4   10064  12985  6.609202          dystopian"
            ]
          },
          "metadata": {
            "tags": []
          },
          "execution_count": 10
        }
      ]
    },
    {
      "cell_type": "code",
      "metadata": {
        "id": "kcBMO0RW-u1S",
        "colab_type": "code",
        "colab": {}
      },
      "source": [
        "def compare_books(tags_A, tags_B):\n",
        "    merged = tags_A.merge(tags_B, on='tag_name')\n",
        "    if merged.empty: \n",
        "        return 0\n",
        "    try:\n",
        "        common_tf = ((merged['count_x'] + merged['count_y']) * merged['idf_x']).sum()\n",
        "        total_tf = (tags_A['count'] * tags_A['idf']).sum() + (tags_B['count']*tags_B['idf']).sum()\n",
        "        similarity_index = common_tf / total_tf\n",
        "        return similarity_index\n",
        "    except: \n",
        "        return 0"
      ],
      "execution_count": null,
      "outputs": []
    },
    {
      "cell_type": "code",
      "metadata": {
        "id": "WxGPpyGH-uwy",
        "colab_type": "code",
        "colab": {
          "base_uri": "https://localhost:8080/",
          "height": 51
        },
        "outputId": "6083752b-53e1-40ae-94c5-1e7bff5ca428"
      },
      "source": [
        "book1 = 'The Hunger Games (The Hunger Games, #1)'\n",
        "book2 = 'Catching Fire (The Hunger Games, #2)'\n",
        "book3 = 'Thinking, Fast and Slow'\n",
        "\n",
        "x = get_tags_by_title(book1)\n",
        "y = get_tags_by_title(book2)\n",
        "z = get_tags_by_title(book3)\n",
        "\n",
        "print('Similarity between \\x1b[32m{}\\x1b[0m and \\x1b[32m{}\\x1b[0m is : \\x1b[32m{:.4f}\\x1b[0m'.format(book1, book2, compare_books(x, y)))\n",
        "print('Similarity between \\x1b[32m{}\\x1b[0m and \\x1b[32m{}\\x1b[0m is : \\x1b[32m{:.4f}\\x1b[0m'.format(book1, book3, compare_books(x, z)))"
      ],
      "execution_count": null,
      "outputs": [
        {
          "output_type": "stream",
          "text": [
            "Similarity between \u001b[32mThe Hunger Games (The Hunger Games, #1)\u001b[0m and \u001b[32mCatching Fire (The Hunger Games, #2)\u001b[0m is : \u001b[32m0.8831\u001b[0m\n",
            "Similarity between \u001b[32mThe Hunger Games (The Hunger Games, #1)\u001b[0m and \u001b[32mThinking, Fast and Slow\u001b[0m is : \u001b[32m0.3065\u001b[0m\n"
          ],
          "name": "stdout"
        }
      ]
    },
    {
      "cell_type": "markdown",
      "metadata": {
        "id": "BVxJXmyCB5_I",
        "colab_type": "text"
      },
      "source": [
        "The similarity between two books is a value between 0 and 1 where 1 means they are the same book sharing all the tags and 0 means they are completely diffrent with no common tags"
      ]
    },
    {
      "cell_type": "code",
      "metadata": {
        "id": "oagKkINo-2Qi",
        "colab_type": "code",
        "colab": {}
      },
      "source": [
        "def get_n_similar_books(title, n):\n",
        "    tags_for_book = get_tags_by_title(title)\n",
        "    def similarity_with_title(x):\n",
        "        try:\n",
        "            tags_x = get_tags_by_title(x['title'])\n",
        "            similarity_index = compare_books(tags_for_book, tags_x)\n",
        "            return similarity_index\n",
        "        except TypeError:\n",
        "            return 0\n",
        "    similarity_with_all_books = books.dropna().apply(similarity_with_title, axis=1)\n",
        "    top_n_similar_book_rows = similarity_with_all_books.sort_values(ascending=False).head(n).index\n",
        "    n_similar_titles = books.iloc[top_n_similar_book_rows].title.tolist()\n",
        "    return n_similar_titles[1:]"
      ],
      "execution_count": null,
      "outputs": []
    },
    {
      "cell_type": "code",
      "metadata": {
        "id": "YOtFB9Kr_RHl",
        "colab_type": "code",
        "colab": {
          "base_uri": "https://localhost:8080/",
          "height": 85
        },
        "outputId": "ef3d99f0-e2ce-499f-9bea-a6bb1d1eb9ac"
      },
      "source": [
        "#Let's get the recommendations\n",
        "get_n_similar_books('The Hunger Games (The Hunger Games, #1)', n=5)"
      ],
      "execution_count": null,
      "outputs": [
        {
          "output_type": "execute_result",
          "data": {
            "text/plain": [
              "['Mockingjay (The Hunger Games, #3)',\n",
              " 'The Hunger Games Trilogy Boxset (The Hunger Games, #1-3)',\n",
              " 'Divergent (Divergent, #1)',\n",
              " 'Insurgent (Divergent, #2)']"
            ]
          },
          "metadata": {
            "tags": []
          },
          "execution_count": 18
        }
      ]
    },
    {
      "cell_type": "markdown",
      "metadata": {
        "id": "ixyuXRxhdb4R",
        "colab_type": "text"
      },
      "source": [
        "The TF-IDF filtering works, boista!"
      ]
    },
    {
      "cell_type": "markdown",
      "metadata": {
        "id": "3OLWxv0iFfz9",
        "colab_type": "text"
      },
      "source": [
        "**Same Author Recommender** - Recommend the books by the same author"
      ]
    },
    {
      "cell_type": "code",
      "metadata": {
        "id": "FxZnX6qeFlMc",
        "colab_type": "code",
        "colab": {}
      },
      "source": [
        "def same_author_recommender(title):\n",
        "    row = books.loc[books.title==title]\n",
        "    authors = row.authors.values\n",
        "    def is_author_in_book(x):\n",
        "        for author in authors:\n",
        "            if author in str(x):\n",
        "                return True\n",
        "        return False\n",
        "    books_by_author = books[books.authors.apply(is_author_in_book)].title.values\n",
        "    return books_by_author"
      ],
      "execution_count": null,
      "outputs": []
    },
    {
      "cell_type": "code",
      "metadata": {
        "id": "tJb0y-E3IFG9",
        "colab_type": "code",
        "colab": {
          "base_uri": "https://localhost:8080/",
          "height": 187
        },
        "outputId": "e8186cc8-090d-419e-80c8-58c932d1804a"
      },
      "source": [
        "same_author_recommender('The Hunger Games (The Hunger Games, #1)')"
      ],
      "execution_count": null,
      "outputs": [
        {
          "output_type": "execute_result",
          "data": {
            "text/plain": [
              "array(['The Hunger Games (The Hunger Games, #1)',\n",
              "       'Catching Fire (The Hunger Games, #2)',\n",
              "       'Mockingjay (The Hunger Games, #3)',\n",
              "       'The Hunger Games Trilogy Boxset (The Hunger Games, #1-3)',\n",
              "       'Gregor the Overlander (Underland Chronicles, #1)',\n",
              "       'Gregor and the Code of Claw (Underland Chronicles, #5)',\n",
              "       'Gregor and the Curse of the Warmbloods (Underland Chronicles, #3)',\n",
              "       'Gregor and the Prophecy of Bane (Underland Chronicles, #2)',\n",
              "       'Gregor and the Marks of Secret (Underland Chronicles, #4)'],\n",
              "      dtype=object)"
            ]
          },
          "metadata": {
            "tags": []
          },
          "execution_count": 16
        }
      ]
    },
    {
      "cell_type": "code",
      "metadata": {
        "id": "BYwAK0HdLZTf",
        "colab_type": "code",
        "colab": {}
      },
      "source": [
        ""
      ],
      "execution_count": null,
      "outputs": []
    }
  ]
}